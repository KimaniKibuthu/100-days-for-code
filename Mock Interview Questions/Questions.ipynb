{
 "cells": [
  {
   "cell_type": "markdown",
   "metadata": {},
   "source": [
    "# 100 days Mocks\n",
    "This will contain code for exercises done for a coding interview."
   ]
  },
  {
   "cell_type": "markdown",
   "metadata": {},
   "source": [
    "# Day 1\n",
    "\n"
   ]
  },
  {
   "cell_type": "markdown",
   "metadata": {},
   "source": [
    "## Question 1\n",
    "Given two strings s and goal, return true if you can swap two letters in s so the result is equal to goal, otherwise, return false.\n",
    "\n",
    "Swapping letters is defined as taking two indices i and j (0-indexed) such that i != j and swapping the characters at s[i] and s[j].\n",
    "\n",
    "For example, swapping at indices 0 and 2 in \"abcd\" results in \"cbad\".\n",
    " \n",
    "\n",
    "Example 1:\n",
    "\n",
    "Input: s = \"ab\", goal = \"ba\"\n",
    "Output: true\n",
    "Explanation: You can swap s[0] = 'a' and s[1] = 'b' to get \"ba\", which is equal to goal.\n",
    "Example 2:\n",
    "\n",
    "Input: s = \"ab\", goal = \"ab\"\n",
    "Output: false\n",
    "Explanation: The only letters you can swap are s[0] = 'a' and s[1] = 'b', which results in \"ba\" != goal.\n",
    "Example 3:\n",
    "\n",
    "Input: s = \"aa\", goal = \"aa\"\n",
    "Output: true\n",
    "Explanation: You can swap s[0] = 'a' and s[1] = 'a' to get \"aa\", which is equal to goal.\n",
    " \n",
    "\n",
    "Constraints:\n",
    "\n",
    "1 <= s.length, goal.length <= 2 * 104\n",
    "s and goal consist of lowercase letters."
   ]
  },
  {
   "cell_type": "code",
   "execution_count": 1,
   "metadata": {},
   "outputs": [],
   "source": [
    "def swapper(s, goal):\n",
    "    import math\n",
    "    import random\n",
    "\n",
    "    list_of_indices = list(range(len(s)))\n",
    "    results = []\n",
    "    outer_temp_list = []\n",
    "    i = 0\n",
    "    while i < math.factorial(len(s)):\n",
    "        temp_list = list(s)\n",
    "        temp_list_copy = temp_list.copy()\n",
    "        indice_1 = random.choice(list_of_indices)\n",
    "        indice_2 = random.choice(list_of_indices)\n",
    "        while indice_1 == indice_2:\n",
    "            indice_1 = random.choice(list_of_indices)\n",
    "            indice_2 = random.choice(list_of_indices)\n",
    "        temp_list_copy[indice_1] = temp_list[indice_2]\n",
    "        temp_list_copy[indice_2] = temp_list[indice_1]\n",
    "        combined = ''.join([temp_list_copy[indice_1], temp_list_copy[indice_2]])\n",
    "        outer_temp_list.append(combined)\n",
    "        word = ''.join(temp_list_copy)\n",
    "        results.append(word)\n",
    "        i+=1\n",
    "        \n",
    "    if goal in results and goal != outer_temp_list:\n",
    "        return True\n",
    "    else:\n",
    "        return False\n",
    "        \n"
   ]
  },
  {
   "cell_type": "code",
   "execution_count": 2,
   "metadata": {},
   "outputs": [],
   "source": [
    "s = \"abcaa\"\n",
    "goal = \"abcbb\"\n"
   ]
  },
  {
   "cell_type": "code",
   "execution_count": 3,
   "metadata": {},
   "outputs": [
    {
     "name": "stdout",
     "output_type": "stream",
     "text": [
      "[0, 1, 2, 3, 4]\n"
     ]
    },
    {
     "data": {
      "text/plain": [
       "False"
      ]
     },
     "execution_count": 3,
     "metadata": {},
     "output_type": "execute_result"
    }
   ],
   "source": [
    "swapper(s, goal)"
   ]
  },
  {
   "cell_type": "code",
   "execution_count": null,
   "metadata": {},
   "outputs": [],
   "source": []
  },
  {
   "cell_type": "markdown",
   "metadata": {},
   "source": []
  },
  {
   "cell_type": "markdown",
   "metadata": {},
   "source": [
    "# Day 2"
   ]
  },
  {
   "cell_type": "markdown",
   "metadata": {},
   "source": [
    "## Question\n",
    "Given a list of numbers, find a pair that adds up to 8"
   ]
  },
  {
   "cell_type": "code",
   "execution_count": 39,
   "metadata": {},
   "outputs": [],
   "source": [
    "def eight_sum(arr):\n",
    "    temp_list = arr.copy()\n",
    "    not_eight = True\n",
    "    eight_sums = []\n",
    "    i = 0\n",
    "    while not_eight:\n",
    "        for a in temp_list:\n",
    "            temp_sum = temp_list[i] + a\n",
    "            if temp_sum == 8:\n",
    "                eight_sums.append((temp_list[i], a))\n",
    "                continue\n",
    "            if a == temp_list[-1]:\n",
    "                temp_list.remove(temp_list[i])\n",
    "            \n",
    "            if len(temp_list) == 0:\n",
    "                if len(eight_sums) == 0:\n",
    "                    print('There exists no pair')\n",
    "                    not_eight = False\n",
    "                else:\n",
    "                    not_eight = False\n",
    "                    return eight_sums\n",
    "                    \n",
    "\n",
    "\n"
   ]
  },
  {
   "cell_type": "code",
   "execution_count": 43,
   "metadata": {},
   "outputs": [],
   "source": [
    "def pair_exists(target, arr):\n",
    "    i = 0\n",
    "    j = len(arr)-1\n",
    "    low = arr[i]\n",
    "    high = arr[j]\n",
    "    \n",
    "    while low < high:\n",
    "        temp_sum = low + high\n",
    "        if temp_sum == target:\n",
    "            return True\n",
    "        \n",
    "        if temp_sum < target:\n",
    "            i +=1\n",
    "            low = arr[i]\n",
    "        \n",
    "        if temp_sum > target:\n",
    "            j -=1\n",
    "            high = arr[j]\n",
    "    \n",
    "    else:\n",
    "        return False\n"
   ]
  },
  {
   "cell_type": "code",
   "execution_count": 53,
   "metadata": {},
   "outputs": [],
   "source": [
    "arr1 = [1,2,3,4,5,6,7,8,9]\n",
    "arr2 = [3,6]\n",
    "arr3 = [1,2,3,9]\n",
    "arr4 = [1,2,4,4]"
   ]
  },
  {
   "cell_type": "code",
   "execution_count": 47,
   "metadata": {},
   "outputs": [
    {
     "data": {
      "text/plain": [
       "False"
      ]
     },
     "execution_count": 47,
     "metadata": {},
     "output_type": "execute_result"
    }
   ],
   "source": [
    "pair_exists(8, arr4)"
   ]
  },
  {
   "cell_type": "markdown",
   "metadata": {},
   "source": [
    "# Day 3\n",
    "## Question\n",
    "Given two arrays, return true when the two arrays have something in common\n",
    "\n"
   ]
  },
  {
   "cell_type": "code",
   "execution_count": 54,
   "metadata": {},
   "outputs": [],
   "source": [
    "array_one = [1,2,4]\n",
    "array_two = [3,4,5,6,7]\n"
   ]
  },
  {
   "cell_type": "code",
   "execution_count": 50,
   "metadata": {},
   "outputs": [
    {
     "data": {
      "text/plain": [
       "2"
      ]
     },
     "execution_count": 50,
     "metadata": {},
     "output_type": "execute_result"
    }
   ],
   "source": [
    "len(set(array_one).intersection(set(array_two)))"
   ]
  },
  {
   "cell_type": "code",
   "execution_count": 51,
   "metadata": {},
   "outputs": [],
   "source": [
    "def check_similar_items(arr1, arr2):\n",
    "    if len(set(arr1).intersection(set(arr2))) != 0:\n",
    "        return True\n",
    "    else:\n",
    "        return False\n",
    "\n",
    "    "
   ]
  },
  {
   "cell_type": "code",
   "execution_count": 55,
   "metadata": {},
   "outputs": [
    {
     "data": {
      "text/plain": [
       "False"
      ]
     },
     "execution_count": 55,
     "metadata": {},
     "output_type": "execute_result"
    }
   ],
   "source": [
    "check_similar_items(arr2, array_one)"
   ]
  },
  {
   "cell_type": "markdown",
   "metadata": {},
   "source": [
    "# Day 4\n",
    "\n",
    "## Question 1\n",
    "Given an array, state the number that recurs first"
   ]
  },
  {
   "cell_type": "code",
   "execution_count": 9,
   "metadata": {},
   "outputs": [],
   "source": [
    "import numpy as np\n",
    "from collections import Counter"
   ]
  },
  {
   "cell_type": "code",
   "execution_count": 33,
   "metadata": {},
   "outputs": [],
   "source": [
    "array_one = [1,3,3,3,2,2,2]\n",
    "array_two = [1,2,3,4,5,6,7,8,9]\n",
    "array_three = [1,1,4,5,6]\n"
   ]
  },
  {
   "cell_type": "code",
   "execution_count": 31,
   "metadata": {},
   "outputs": [],
   "source": [
    "def recurs_first(arr):\n",
    "    temp_array = np.array(arr)\n",
    "    temp_dict = Counter(arr)\n",
    "    following_indice = {}\n",
    "    minimum = len(arr)\n",
    "\n",
    "    for key, value in temp_dict.items():\n",
    "        if value > 1:\n",
    "            following = np.where(temp_array==key)[0][1]\n",
    "            following_indice[key] = following\n",
    "    \n",
    "    if len(following_indice) == 0:\n",
    "        return 'No recurring numbers'\n",
    "    else:\n",
    "        for key, value in following_indice.items():\n",
    "            if value < minimum:\n",
    "                minimum = value\n",
    "        return arr[minimum]\n",
    "    "
   ]
  },
  {
   "cell_type": "code",
   "execution_count": 34,
   "metadata": {},
   "outputs": [
    {
     "data": {
      "text/plain": [
       "3"
      ]
     },
     "execution_count": 34,
     "metadata": {},
     "output_type": "execute_result"
    }
   ],
   "source": [
    "recurs_first(array_one)"
   ]
  },
  {
   "cell_type": "code",
   "execution_count": 35,
   "metadata": {},
   "outputs": [
    {
     "data": {
      "text/plain": [
       "'No recurring numbers'"
      ]
     },
     "execution_count": 35,
     "metadata": {},
     "output_type": "execute_result"
    }
   ],
   "source": [
    "recurs_first(array_two)"
   ]
  },
  {
   "cell_type": "code",
   "execution_count": 36,
   "metadata": {},
   "outputs": [
    {
     "data": {
      "text/plain": [
       "1"
      ]
     },
     "execution_count": 36,
     "metadata": {},
     "output_type": "execute_result"
    }
   ],
   "source": [
    "recurs_first(array_three)"
   ]
  },
  {
   "cell_type": "markdown",
   "metadata": {},
   "source": [
    "Another way of solving this problem is by creating a dictionary to count the number of occurrences ad then once it encounters an occurrence, it breaks."
   ]
  },
  {
   "cell_type": "markdown",
   "metadata": {},
   "source": []
  }
 ],
 "metadata": {
  "interpreter": {
   "hash": "cc7117dab11736c58424e9bec99579b8ef60fcbce152ad161bca30b02e6d8c56"
  },
  "kernelspec": {
   "display_name": "Python 3.7.9 64-bit",
   "language": "python",
   "name": "python3"
  },
  "language_info": {
   "codemirror_mode": {
    "name": "ipython",
    "version": 3
   },
   "file_extension": ".py",
   "mimetype": "text/x-python",
   "name": "python",
   "nbconvert_exporter": "python",
   "pygments_lexer": "ipython3",
   "version": "3.7.9"
  },
  "orig_nbformat": 4
 },
 "nbformat": 4,
 "nbformat_minor": 2
}
