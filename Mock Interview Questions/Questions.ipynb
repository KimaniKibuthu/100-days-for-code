{
 "cells": [
  {
   "cell_type": "markdown",
   "metadata": {},
   "source": [
    "# 100 days Mocks\n",
    "This will contain code for exercises done for a coding interview."
   ]
  },
  {
   "cell_type": "markdown",
   "metadata": {},
   "source": [
    "# Day 1\n",
    "\n"
   ]
  },
  {
   "cell_type": "markdown",
   "metadata": {},
   "source": [
    "## Question 1\n",
    "Given two strings s and goal, return true if you can swap two letters in s so the result is equal to goal, otherwise, return false.\n",
    "\n",
    "Swapping letters is defined as taking two indices i and j (0-indexed) such that i != j and swapping the characters at s[i] and s[j].\n",
    "\n",
    "For example, swapping at indices 0 and 2 in \"abcd\" results in \"cbad\".\n",
    " \n",
    "\n",
    "Example 1:\n",
    "\n",
    "Input: s = \"ab\", goal = \"ba\"\n",
    "Output: true\n",
    "Explanation: You can swap s[0] = 'a' and s[1] = 'b' to get \"ba\", which is equal to goal.\n",
    "Example 2:\n",
    "\n",
    "Input: s = \"ab\", goal = \"ab\"\n",
    "Output: false\n",
    "Explanation: The only letters you can swap are s[0] = 'a' and s[1] = 'b', which results in \"ba\" != goal.\n",
    "Example 3:\n",
    "\n",
    "Input: s = \"aa\", goal = \"aa\"\n",
    "Output: true\n",
    "Explanation: You can swap s[0] = 'a' and s[1] = 'a' to get \"aa\", which is equal to goal.\n",
    " \n",
    "\n",
    "Constraints:\n",
    "\n",
    "1 <= s.length, goal.length <= 2 * 104\n",
    "s and goal consist of lowercase letters."
   ]
  },
  {
   "cell_type": "code",
   "execution_count": 1,
   "metadata": {},
   "outputs": [],
   "source": [
    "def swapper(s, goal):\n",
    "    import math\n",
    "    import random\n",
    "\n",
    "    list_of_indices = list(range(len(s)))\n",
    "    results = []\n",
    "    outer_temp_list = []\n",
    "    i = 0\n",
    "    while i < math.factorial(len(s)):\n",
    "        temp_list = list(s)\n",
    "        temp_list_copy = temp_list.copy()\n",
    "        indice_1 = random.choice(list_of_indices)\n",
    "        indice_2 = random.choice(list_of_indices)\n",
    "        while indice_1 == indice_2:\n",
    "            indice_1 = random.choice(list_of_indices)\n",
    "            indice_2 = random.choice(list_of_indices)\n",
    "        temp_list_copy[indice_1] = temp_list[indice_2]\n",
    "        temp_list_copy[indice_2] = temp_list[indice_1]\n",
    "        combined = ''.join([temp_list_copy[indice_1], temp_list_copy[indice_2]])\n",
    "        outer_temp_list.append(combined)\n",
    "        word = ''.join(temp_list_copy)\n",
    "        results.append(word)\n",
    "        i+=1\n",
    "        \n",
    "    if goal in results and goal != outer_temp_list:\n",
    "        return True\n",
    "    else:\n",
    "        return False\n",
    "        \n"
   ]
  },
  {
   "cell_type": "code",
   "execution_count": 2,
   "metadata": {},
   "outputs": [],
   "source": [
    "s = \"abcaa\"\n",
    "goal = \"abcbb\"\n"
   ]
  },
  {
   "cell_type": "code",
   "execution_count": 3,
   "metadata": {},
   "outputs": [
    {
     "name": "stdout",
     "output_type": "stream",
     "text": [
      "[0, 1, 2, 3, 4]\n"
     ]
    },
    {
     "data": {
      "text/plain": [
       "False"
      ]
     },
     "execution_count": 3,
     "metadata": {},
     "output_type": "execute_result"
    }
   ],
   "source": [
    "swapper(s, goal)"
   ]
  },
  {
   "cell_type": "code",
   "execution_count": null,
   "metadata": {},
   "outputs": [],
   "source": []
  },
  {
   "cell_type": "markdown",
   "metadata": {},
   "source": []
  },
  {
   "cell_type": "markdown",
   "metadata": {},
   "source": [
    "## Question 2\n",
    "A matrix diagonal is a diagonal line of cells starting from some cell in either the topmost row or leftmost column and going in the bottom-right direction until reaching the matrix's end. For example, the matrix diagonal starting from mat[2][0], where mat is a 6 x 3 matrix, includes cells mat[2][0], mat[3][1], and mat[4][2].\n",
    "\n",
    "Given an m x n matrix mat of integers, sort each matrix diagonal in ascending order and return the resulting matrix.\n",
    "\n",
    " "
   ]
  },
  {
   "cell_type": "markdown",
   "metadata": {},
   "source": []
  },
  {
   "cell_type": "markdown",
   "metadata": {},
   "source": [
    "## Tests"
   ]
  }
 ],
 "metadata": {
  "interpreter": {
   "hash": "911aabb288a2c68f504de42bfb4c274e1d2292c3685b49c701ead7f4f1082567"
  },
  "kernelspec": {
   "display_name": "Python 3.7.9 64-bit",
   "language": "python",
   "name": "python3"
  },
  "language_info": {
   "codemirror_mode": {
    "name": "ipython",
    "version": 3
   },
   "file_extension": ".py",
   "mimetype": "text/x-python",
   "name": "python",
   "nbconvert_exporter": "python",
   "pygments_lexer": "ipython3",
   "version": "3.7.9"
  },
  "orig_nbformat": 4
 },
 "nbformat": 4,
 "nbformat_minor": 2
}
