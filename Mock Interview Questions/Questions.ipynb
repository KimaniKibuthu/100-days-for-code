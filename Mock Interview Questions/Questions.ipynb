{
 "cells": [
  {
   "cell_type": "markdown",
   "metadata": {},
   "source": [
    "# 100 days Mocks\n",
    "This will contain code for exercises done for a coding interview."
   ]
  },
  {
   "cell_type": "markdown",
   "metadata": {},
   "source": [
    "# Day 1\n",
    "\n"
   ]
  },
  {
   "cell_type": "markdown",
   "metadata": {},
   "source": [
    "## Question 1\n",
    "Given two strings s and goal, return true if you can swap two letters in s so the result is equal to goal, otherwise, return false.\n",
    "\n",
    "Swapping letters is defined as taking two indices i and j (0-indexed) such that i != j and swapping the characters at s[i] and s[j].\n",
    "\n",
    "For example, swapping at indices 0 and 2 in \"abcd\" results in \"cbad\".\n",
    " \n",
    "\n",
    "Example 1:\n",
    "\n",
    "Input: s = \"ab\", goal = \"ba\"\n",
    "Output: true\n",
    "Explanation: You can swap s[0] = 'a' and s[1] = 'b' to get \"ba\", which is equal to goal.\n",
    "Example 2:\n",
    "\n",
    "Input: s = \"ab\", goal = \"ab\"\n",
    "Output: false\n",
    "Explanation: The only letters you can swap are s[0] = 'a' and s[1] = 'b', which results in \"ba\" != goal.\n",
    "Example 3:\n",
    "\n",
    "Input: s = \"aa\", goal = \"aa\"\n",
    "Output: true\n",
    "Explanation: You can swap s[0] = 'a' and s[1] = 'a' to get \"aa\", which is equal to goal.\n",
    " \n",
    "\n",
    "Constraints:\n",
    "\n",
    "1 <= s.length, goal.length <= 2 * 104\n",
    "s and goal consist of lowercase letters."
   ]
  },
  {
   "cell_type": "code",
   "execution_count": 1,
   "metadata": {},
   "outputs": [],
   "source": [
    "def swapper(s, goal):\n",
    "    import math\n",
    "    import random\n",
    "\n",
    "    list_of_indices = list(range(len(s)))\n",
    "    results = []\n",
    "    outer_temp_list = []\n",
    "    i = 0\n",
    "    while i < math.factorial(len(s)):\n",
    "        temp_list = list(s)\n",
    "        temp_list_copy = temp_list.copy()\n",
    "        indice_1 = random.choice(list_of_indices)\n",
    "        indice_2 = random.choice(list_of_indices)\n",
    "        while indice_1 == indice_2:\n",
    "            indice_1 = random.choice(list_of_indices)\n",
    "            indice_2 = random.choice(list_of_indices)\n",
    "        temp_list_copy[indice_1] = temp_list[indice_2]\n",
    "        temp_list_copy[indice_2] = temp_list[indice_1]\n",
    "        combined = ''.join([temp_list_copy[indice_1], temp_list_copy[indice_2]])\n",
    "        outer_temp_list.append(combined)\n",
    "        word = ''.join(temp_list_copy)\n",
    "        results.append(word)\n",
    "        i+=1\n",
    "        \n",
    "    if goal in results and goal != outer_temp_list:\n",
    "        return True\n",
    "    else:\n",
    "        return False\n",
    "        \n"
   ]
  },
  {
   "cell_type": "code",
   "execution_count": 2,
   "metadata": {},
   "outputs": [],
   "source": [
    "s = \"abcaa\"\n",
    "goal = \"abcbb\"\n"
   ]
  },
  {
   "cell_type": "code",
   "execution_count": 3,
   "metadata": {},
   "outputs": [
    {
     "name": "stdout",
     "output_type": "stream",
     "text": [
      "[0, 1, 2, 3, 4]\n"
     ]
    },
    {
     "data": {
      "text/plain": [
       "False"
      ]
     },
     "execution_count": 3,
     "metadata": {},
     "output_type": "execute_result"
    }
   ],
   "source": [
    "swapper(s, goal)"
   ]
  },
  {
   "cell_type": "code",
   "execution_count": null,
   "metadata": {},
   "outputs": [],
   "source": []
  },
  {
   "cell_type": "markdown",
   "metadata": {},
   "source": []
  },
  {
   "cell_type": "markdown",
   "metadata": {},
   "source": [
    "# Day 2"
   ]
  },
  {
   "cell_type": "markdown",
   "metadata": {},
   "source": [
    "## Question\n",
    "Given a list of numbers, find a pair that adds up to 8"
   ]
  },
  {
   "cell_type": "code",
   "execution_count": 12,
   "metadata": {},
   "outputs": [],
   "source": [
    "def eight_sum(arr):\n",
    "    temp_list = arr.copy()\n",
    "    eight_sums = []\n",
    "    not_eight = True\n",
    "    i = 0\n",
    "    while not_eight:\n",
    "        for a in temp_list:\n",
    "            temp_sum = temp_list[i] + a\n",
    "            if temp_sum == 8:\n",
    "                eight_sums.append((temp_list[i], a))\n",
    "                continue\n",
    "\n",
    "            if a == temp_list[-1]:\n",
    "                temp_list.remove(temp_list[i])\n",
    "                continue\n",
    "\n",
    "            if len(temp_list) == 0:\n",
    "                print('There exists no pair')\n",
    "                not_eight = False\n",
    "            \n",
    "    return eight_sums\n"
   ]
  },
  {
   "cell_type": "code",
   "execution_count": null,
   "metadata": {},
   "outputs": [],
   "source": [
    "def eight_sum(arr):\n",
    "    temp_list = arr.copy()\n",
    "    eight_sums = []\n",
    "    not_eight = True\n",
    "    i = 0\n",
    "    while not_eight:\n",
    "        for a in temp_list:\n",
    "            temp_sum = temp_list[i] + a\n",
    "            if temp_sum == 8:\n",
    "                eight_sums.append((temp_list[i], a))\n",
    "                continue\n",
    "\n",
    "            if a == temp_list[-1]:\n",
    "                temp_list.remove(temp_list[i])\n",
    "                continue\n",
    "\n",
    "            if len(temp_list) == 0:\n",
    "                print('There exists no pair')\n",
    "                not_eight = False\n",
    "            \n",
    "    return eight_sums"
   ]
  },
  {
   "cell_type": "code",
   "execution_count": 10,
   "metadata": {},
   "outputs": [],
   "source": [
    "arr1 = [1,2,3,4,5,6,7,8,9]\n",
    "arr2 = [1,3,6]"
   ]
  },
  {
   "cell_type": "code",
   "execution_count": 13,
   "metadata": {},
   "outputs": [],
   "source": [
    "eight_sum(arr2)"
   ]
  },
  {
   "cell_type": "code",
   "execution_count": null,
   "metadata": {},
   "outputs": [],
   "source": []
  }
 ],
 "metadata": {
  "interpreter": {
   "hash": "cc7117dab11736c58424e9bec99579b8ef60fcbce152ad161bca30b02e6d8c56"
  },
  "kernelspec": {
   "display_name": "Python 3.7.9 64-bit",
   "language": "python",
   "name": "python3"
  },
  "language_info": {
   "codemirror_mode": {
    "name": "ipython",
    "version": 3
   },
   "file_extension": ".py",
   "mimetype": "text/x-python",
   "name": "python",
   "nbconvert_exporter": "python",
   "pygments_lexer": "ipython3",
   "version": "3.7.9"
  },
  "orig_nbformat": 4
 },
 "nbformat": 4,
 "nbformat_minor": 2
}
